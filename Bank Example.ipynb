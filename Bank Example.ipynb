{
 "cells": [
  {
   "cell_type": "code",
   "execution_count": 46,
   "metadata": {
    "collapsed": false
   },
   "outputs": [],
   "source": [
    "import time\n",
    "\n",
    "\n",
    "class NotEnoughMoneyException(Exception):\n",
    "    pass\n",
    "\n",
    "class NotAnAccountException(Exception):\n",
    "    pass\n",
    "\n",
    "\n",
    "class BankAccountInterface(object):\n",
    "    ''' Interface définissant les méthodes nécessaires à tout compte bancaire'''\n",
    "    def deposit(self, value):\n",
    "        ''' Méthode pérmettant de déposer de l'argent sur un compte\n",
    "        require : value - valeur en float qui sera ajouté au solde du compte\n",
    "        '''\n",
    "        raise NotImplementedError\n",
    "    def withdraw(self, value):\n",
    "        ''' Méthode pérmettant de retirer une somme d'argent d'un compte\n",
    "        require : value - valeur en float qui sera soustraite au solde du compte\n",
    "        '''\n",
    "        raise NotImplementedError\n",
    "    def balance(self):\n",
    "        ''' Méthode pérmettant de connaitre le solde d'un compte\n",
    "        returns : solde du compte en float\n",
    "        '''\n",
    "        raise NotImplementedError\n",
    "\n",
    "    \n"
   ]
  },
  {
   "cell_type": "code",
   "execution_count": 9,
   "metadata": {
    "collapsed": false
   },
   "outputs": [
    {
     "ename": "NotImplementedError",
     "evalue": "",
     "output_type": "error",
     "traceback": [
      "\u001b[1;31m---------------------------------------------------------------------------\u001b[0m",
      "\u001b[1;31mNotImplementedError\u001b[0m                       Traceback (most recent call last)",
      "\u001b[1;32m<ipython-input-9-851abed821ff>\u001b[0m in \u001b[0;36m<module>\u001b[1;34m()\u001b[0m\n\u001b[0;32m      1\u001b[0m \u001b[0mmon_compte\u001b[0m \u001b[1;33m=\u001b[0m \u001b[0mBankAccount\u001b[0m\u001b[1;33m(\u001b[0m\u001b[1;33m)\u001b[0m\u001b[1;33m\u001b[0m\u001b[0m\n\u001b[1;32m----> 2\u001b[1;33m \u001b[0mmon_compte\u001b[0m\u001b[1;33m.\u001b[0m\u001b[0mbalance\u001b[0m\u001b[1;33m(\u001b[0m\u001b[1;33m)\u001b[0m\u001b[1;33m\u001b[0m\u001b[0m\n\u001b[0m",
      "\u001b[1;32m<ipython-input-7-9fe8a6ab6cbc>\u001b[0m in \u001b[0;36mbalance\u001b[1;34m(self)\u001b[0m\n\u001b[0;32m     16\u001b[0m         \u001b[0mreturns\u001b[0m \u001b[1;33m:\u001b[0m \u001b[0msolde\u001b[0m \u001b[0mdu\u001b[0m \u001b[0mcompte\u001b[0m \u001b[0men\u001b[0m \u001b[0mfloat\u001b[0m\u001b[1;33m\u001b[0m\u001b[0m\n\u001b[0;32m     17\u001b[0m         '''\n\u001b[1;32m---> 18\u001b[1;33m         \u001b[1;32mraise\u001b[0m \u001b[0mNotImplementedError\u001b[0m\u001b[1;33m\u001b[0m\u001b[0m\n\u001b[0m\u001b[0;32m     19\u001b[0m \u001b[1;33m\u001b[0m\u001b[0m\n\u001b[0;32m     20\u001b[0m \u001b[1;33m\u001b[0m\u001b[0m\n",
      "\u001b[1;31mNotImplementedError\u001b[0m: "
     ]
    }
   ],
   "source": [
    "mon_compte = BankAccount()\n",
    "mon_compte.balance()"
   ]
  },
  {
   "cell_type": "code",
   "execution_count": null,
   "metadata": {
    "collapsed": true
   },
   "outputs": [],
   "source": []
  },
  {
   "cell_type": "code",
   "execution_count": 71,
   "metadata": {
    "collapsed": true
   },
   "outputs": [],
   "source": [
    "class CreditAccount(BankAccountInterface):\n",
    "    def __init__(self, owner):\n",
    "        self._balance = 2000\n",
    "        self._owner = owner\n",
    "        self._id = time.time()\n",
    "    def __repr__(self):\n",
    "        return '%s, %.2f' % (str(self._owner), self._balance)\n",
    "    def balance(self):\n",
    "        return self._balance\n",
    "    def show_balance(self):\n",
    "        print('Votre solde : %.2f' % self._balance)\n",
    "    def deposit(self, amount):\n",
    "        if(amount < 0):\n",
    "            raise ValueError(\"Error: Cannot add négative number\")\n",
    "            return\n",
    "        else:\n",
    "            print('Dépot de : %.2f' % (amount))\n",
    "            self._balance += amount\n",
    "            self.show_balance()\n",
    "    def withdraw(self, amount):\n",
    "        if(amount < 0):\n",
    "            raise ValueError(\"Error: Cannot withdraw negative number\")\n",
    "            return\n",
    "        elif(amount > self._balance + 300):\n",
    "            raise NotEnoughMoneyException(\"Error: Cannot have less than -300\")\n",
    "        else:\n",
    "            print('Retrait de : %.2f' % (amount))\n",
    "            self._balance -= amount\n",
    "            self.show_balance()\n",
    "\n",
    "class SavingAccount(BankAccountInterface):\n",
    "    def __init__(self, owner):\n",
    "        self._balance = 60000\n",
    "        self._owner = owner\n",
    "        self._id = time.time()\n",
    "        self._interest = 1.2\n",
    "    def __repr__(self):\n",
    "        return '%s, %.2f' % (str(self._owner), self._balance)\n",
    "    def balance(self):\n",
    "        return self._balance\n",
    "    def show_balance(self):\n",
    "        print('Votre solde : %.2f' % self._balance)\n",
    "    def deposit(self, amount):\n",
    "        if(amount < 0):\n",
    "            raise ValueError(\"Error: Cannot add négative number\")\n",
    "            return\n",
    "        else:\n",
    "            print('Dépot de : %.2f' % (amount))\n",
    "            self._balance += amount\n",
    "            self.show_balance()\n",
    "    def withdraw(self, amount):\n",
    "        if(amount < 0):\n",
    "            raise ValueError(\"Error: Cannot withdraw negative number\")\n",
    "            return\n",
    "        elif(amount > self._balance):\n",
    "            raise NotEnoughMoneyException(\"Error: Cannot have less than 0\")\n",
    "        else:\n",
    "            print('Retrait de : %.2f' % (amount))\n",
    "            self._balance -= amount\n",
    "            self.show_balance()"
   ]
  },
  {
   "cell_type": "code",
   "execution_count": 44,
   "metadata": {
    "collapsed": false
   },
   "outputs": [
    {
     "name": "stdout",
     "output_type": "stream",
     "text": [
      "Il y a 0.00 € dans mon compte\n",
      "Dépot de : 200.00\n",
      "Votre solde : 200.00\n",
      "Maintenant, il y a 200.00 € dans mon compte\n",
      "Retrait de : 300.00\n",
      "Votre solde : -100.00\n",
      "Maintenant, il y a -100.00 € dans mon compte\n",
      "<class '__main__.CreditAccount'>\n",
      "True\n"
     ]
    }
   ],
   "source": [
    "mon_compte = CreditAccount('Mickael')\n",
    "print('Il y a %.2f € dans mon compte' % mon_compte.balance())\n",
    "mon_compte.deposit(200)\n",
    "print('Maintenant, il y a %.2f € dans mon compte' % mon_compte.balance())\n",
    "mon_compte.withdraw(300)\n",
    "print('Maintenant, il y a %.2f € dans mon compte' % mon_compte.balance())\n",
    "#mon_compte.withdraw(300)\n",
    "#mon_compte.withdraw(-300)\n",
    "#mon_compte.deposit(-300)\n",
    "print(type(mon_compte))\n",
    "print(CreditAccount == type(mon_compte))"
   ]
  },
  {
   "cell_type": "code",
   "execution_count": 72,
   "metadata": {
    "collapsed": true
   },
   "outputs": [],
   "source": [
    "class Person:\n",
    "    def __init__(self, first_name, last_name):\n",
    "        self.first_name = first_name\n",
    "        self.last_name = last_name\n",
    "\n",
    "class Advisor(Person):\n",
    "    def __init__(self, first_name, last_name):\n",
    "        Person.__init__(self, first_name, last_name)\n",
    "        self.ssid = time.time()\n",
    "        self._rank = 0\n",
    "        self.clients = []\n",
    "    def create_account(self, client):\n",
    "        client.add_account(SavingAccount)\n",
    "        client.add_account(CreditAccount)\n",
    "        self.clients.append(client)\n",
    "    def transfer(self, client_src, client_dest, value):\n",
    "        client_src.accounts[0].withdraw(value)\n",
    "        client_dest.accounts[0].deposit(value)\n",
    "        \n",
    "\n",
    "class Client(Person):\n",
    "    def __init__(self, first_name, last_name, date_birth, date_join):\n",
    "        Person.__init__(self, first_name, last_name)\n",
    "        self._date_birth = date_birth\n",
    "        self._date_join = date_join\n",
    "        self.id = time.time()\n",
    "        self.accounts = []\n",
    "    def add_account(self, type_account):\n",
    "        if(type_account == SavingAccount):\n",
    "            self.accounts.append(SavingAccount(self))\n",
    "        elif(type_account == CreditAccount):\n",
    "            self.accounts.append(SavingAccount(self))\n",
    "        else:\n",
    "            raise NotAnAccountException('Error: add_account arguments must be an account')\n"
   ]
  },
  {
   "cell_type": "code",
   "execution_count": 73,
   "metadata": {
    "collapsed": false
   },
   "outputs": [
    {
     "name": "stdout",
     "output_type": "stream",
     "text": [
      "Retrait de : 300.00\n",
      "Votre solde : 59700.00\n",
      "Dépot de : 300.00\n",
      "Votre solde : 60300.00\n"
     ]
    }
   ],
   "source": [
    "john_doe = Client(\"John\", \"Doe\", time.mktime(time.strptime(\"30 Nov 1991\", \"%d %b %Y\")), time.time() )\n",
    "john_mom = Client(\"Muriel\", \"Doe\", time.mktime(time.strptime(\"30 Nov 1975\", \"%d %b %Y\")), time.time() )\n",
    "advisor = Advisor(\"Jane\", \"Doe\")\n",
    "advisor.create_account(john_doe)\n",
    "advisor.create_account(john_mom)\n",
    "advisor.transfer(john_mom, john_doe, 300)\n"
   ]
  },
  {
   "cell_type": "code",
   "execution_count": 70,
   "metadata": {
    "collapsed": false
   },
   "outputs": [
    {
     "name": "stdout",
     "output_type": "stream",
     "text": [
      "[<__main__.Client object at 0x000002BFAE6FCC88>, 0.00, <__main__.Client object at 0x000002BFAE6FCC88>, 0.00]\n"
     ]
    }
   ],
   "source": [
    "print(john_doe.accounts)"
   ]
  },
  {
   "cell_type": "code",
   "execution_count": null,
   "metadata": {
    "collapsed": true
   },
   "outputs": [],
   "source": []
  }
 ],
 "metadata": {
  "kernelspec": {
   "display_name": "Python 3",
   "language": "python",
   "name": "python3"
  },
  "language_info": {
   "codemirror_mode": {
    "name": "ipython",
    "version": 3
   },
   "file_extension": ".py",
   "mimetype": "text/x-python",
   "name": "python",
   "nbconvert_exporter": "python",
   "pygments_lexer": "ipython3",
   "version": "3.5.3"
  }
 },
 "nbformat": 4,
 "nbformat_minor": 0
}
